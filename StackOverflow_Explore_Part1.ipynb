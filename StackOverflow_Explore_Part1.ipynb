{
 "cells": [
  {
   "cell_type": "markdown",
   "metadata": {
    "_cell_guid": "b1076dfc-b9ad-4769-8c92-a6c4dae69d19",
    "_uuid": "8f2839f25d086af736a60e9eeb907d3b93b6e0e5"
   },
   "source": [
    "# Exploring StackOverflow open dataset with BigQuery\n",
    "\n",
    "In a search for interesting data science problems.\n",
    "\n",
    "DataQubit\n",
    "\n",
    "2019"
   ]
  },
  {
   "cell_type": "markdown",
   "metadata": {
    "_uuid": "ecbb8f908bdacec258a7a3dc56c2d36dd631c7f6"
   },
   "source": [
    "### Possible ideas to explore:\n",
    "\n",
    "* #### Understanding StackOverflow users through the data:\n",
    "    There are 9737247 unique users in the `users` table. They are all different in many ways, but similar in some ways. Can data mining help in determining who is a typical user of the service, in answering more complex questions such as - which users will likely be able to answer a particular question.  Another complex question is - can we rank users according to their skills and find top ranked users matching the given job description, for example, a job post from Indeed.com.  "
   ]
  },
  {
   "cell_type": "code",
   "execution_count": 2,
   "metadata": {
    "_cell_guid": "79c7e3d0-c299-4dcb-8224-4455121ee9b0",
    "_uuid": "d629ff2d2480ee46fbb7e2d37f6b5fab8052498a"
   },
   "outputs": [
    {
     "name": "stdout",
     "output_type": "stream",
     "text": [
      "Using Kaggle's public dataset BigQuery integration.\n"
     ]
    }
   ],
   "source": [
    "import numpy as np\n",
    "import pandas as pd\n",
    "import bq_helper\n",
    "from bq_helper import BigQueryHelper\n",
    "stackOverflow = bq_helper.BigQueryHelper(active_project=\"bigquery-public-data\",\n",
    "                                   dataset_name=\"stackoverflow\")"
   ]
  },
  {
   "cell_type": "markdown",
   "metadata": {
    "_uuid": "097c2131ce680f3a7269e9d1d14e17e2c972fb96"
   },
   "source": [
    "StackOverflow BigQuery dataset consists of the following tables: "
   ]
  },
  {
   "cell_type": "code",
   "execution_count": 3,
   "metadata": {
    "_uuid": "767fc437e4a1747b1cce8cb069b3b1c6d05f4189"
   },
   "outputs": [
    {
     "name": "stdout",
     "output_type": "stream",
     "text": [
      "Using Kaggle's public dataset BigQuery integration.\n"
     ]
    },
    {
     "data": {
      "text/plain": [
       "['badges',\n",
       " 'comments',\n",
       " 'post_history',\n",
       " 'post_links',\n",
       " 'posts_answers',\n",
       " 'posts_moderator_nomination',\n",
       " 'posts_orphaned_tag_wiki',\n",
       " 'posts_privilege_wiki',\n",
       " 'posts_questions',\n",
       " 'posts_tag_wiki',\n",
       " 'posts_tag_wiki_excerpt',\n",
       " 'posts_wiki_placeholder',\n",
       " 'stackoverflow_posts',\n",
       " 'tags',\n",
       " 'users',\n",
       " 'votes']"
      ]
     },
     "execution_count": 3,
     "metadata": {},
     "output_type": "execute_result"
    }
   ],
   "source": [
    "bq_assistant = BigQueryHelper(\"bigquery-public-data\", \"stackoverflow\")\n",
    "bq_assistant.list_tables()"
   ]
  },
  {
   "cell_type": "markdown",
   "metadata": {
    "_uuid": "d90e713fbc1b356117eab3b5f6931f3f1d217220"
   },
   "source": [
    "Today we will explore the posts_questions table:"
   ]
  },
  {
   "cell_type": "code",
   "execution_count": 9,
   "metadata": {
    "_uuid": "e8f8b58a67779f9dc5a452e47fc246f59fb1db87"
   },
   "outputs": [
    {
     "data": {
      "text/html": [
       "<div>\n",
       "<style scoped>\n",
       "    .dataframe tbody tr th:only-of-type {\n",
       "        vertical-align: middle;\n",
       "    }\n",
       "\n",
       "    .dataframe tbody tr th {\n",
       "        vertical-align: top;\n",
       "    }\n",
       "\n",
       "    .dataframe thead th {\n",
       "        text-align: right;\n",
       "    }\n",
       "</style>\n",
       "<table border=\"1\" class=\"dataframe\">\n",
       "  <thead>\n",
       "    <tr style=\"text-align: right;\">\n",
       "      <th></th>\n",
       "      <th>id</th>\n",
       "      <th>title</th>\n",
       "      <th>body</th>\n",
       "      <th>accepted_answer_id</th>\n",
       "      <th>answer_count</th>\n",
       "      <th>comment_count</th>\n",
       "      <th>community_owned_date</th>\n",
       "      <th>creation_date</th>\n",
       "      <th>favorite_count</th>\n",
       "      <th>last_activity_date</th>\n",
       "      <th>last_edit_date</th>\n",
       "      <th>last_editor_display_name</th>\n",
       "      <th>last_editor_user_id</th>\n",
       "      <th>owner_display_name</th>\n",
       "      <th>owner_user_id</th>\n",
       "      <th>post_type_id</th>\n",
       "      <th>score</th>\n",
       "      <th>tags</th>\n",
       "      <th>view_count</th>\n",
       "    </tr>\n",
       "  </thead>\n",
       "  <tbody>\n",
       "    <tr>\n",
       "      <th>0</th>\n",
       "      <td>49109733</td>\n",
       "      <td>Hide \"Look up\" bubble on input fields - IOS Sa...</td>\n",
       "      <td>&lt;p&gt;How to hide  \"Look up\" bubble when the user...</td>\n",
       "      <td>NaN</td>\n",
       "      <td>0</td>\n",
       "      <td>1</td>\n",
       "      <td>None</td>\n",
       "      <td>2018-03-05 11:44:01.730000+00:00</td>\n",
       "      <td>None</td>\n",
       "      <td>2018-03-05 11:44:01.730000+00:00</td>\n",
       "      <td>NaT</td>\n",
       "      <td></td>\n",
       "      <td>NaN</td>\n",
       "      <td></td>\n",
       "      <td>2169274.0</td>\n",
       "      <td>1</td>\n",
       "      <td>0</td>\n",
       "      <td>javascript|html|safari</td>\n",
       "      <td>27</td>\n",
       "    </tr>\n",
       "    <tr>\n",
       "      <th>1</th>\n",
       "      <td>44662632</td>\n",
       "      <td>Can I use links in chrome extensions?</td>\n",
       "      <td>&lt;p&gt;I have manifest.json containing this:&lt;/p&gt;\\n...</td>\n",
       "      <td>NaN</td>\n",
       "      <td>0</td>\n",
       "      <td>2</td>\n",
       "      <td>None</td>\n",
       "      <td>2017-06-20 20:42:15.823000+00:00</td>\n",
       "      <td>None</td>\n",
       "      <td>2017-06-20 20:42:15.823000+00:00</td>\n",
       "      <td>NaT</td>\n",
       "      <td></td>\n",
       "      <td>NaN</td>\n",
       "      <td>user8190318</td>\n",
       "      <td>NaN</td>\n",
       "      <td>1</td>\n",
       "      <td>0</td>\n",
       "      <td>javascript|google-chrome-extension</td>\n",
       "      <td>20</td>\n",
       "    </tr>\n",
       "    <tr>\n",
       "      <th>2</th>\n",
       "      <td>45338606</td>\n",
       "      <td>JQuery click 1 does nothing</td>\n",
       "      <td>&lt;p&gt;I have a feeling there is something wrong w...</td>\n",
       "      <td>45339322.0</td>\n",
       "      <td>1</td>\n",
       "      <td>2</td>\n",
       "      <td>None</td>\n",
       "      <td>2017-07-26 22:42:44.247000+00:00</td>\n",
       "      <td>None</td>\n",
       "      <td>2017-07-27 00:09:08.560000+00:00</td>\n",
       "      <td>NaT</td>\n",
       "      <td></td>\n",
       "      <td>NaN</td>\n",
       "      <td></td>\n",
       "      <td>8100494.0</td>\n",
       "      <td>1</td>\n",
       "      <td>2</td>\n",
       "      <td>javascript|ajax|for-loop</td>\n",
       "      <td>56</td>\n",
       "    </tr>\n",
       "    <tr>\n",
       "      <th>3</th>\n",
       "      <td>50876533</td>\n",
       "      <td>Specify --json in webpack config instead of co...</td>\n",
       "      <td>&lt;p&gt;I'm using Webpack 4 via webpack-stream / gu...</td>\n",
       "      <td>50880737.0</td>\n",
       "      <td>1</td>\n",
       "      <td>1</td>\n",
       "      <td>None</td>\n",
       "      <td>2018-06-15 13:23:22.823000+00:00</td>\n",
       "      <td>None</td>\n",
       "      <td>2018-06-20 14:05:45.530000+00:00</td>\n",
       "      <td>NaT</td>\n",
       "      <td></td>\n",
       "      <td>NaN</td>\n",
       "      <td></td>\n",
       "      <td>684776.0</td>\n",
       "      <td>1</td>\n",
       "      <td>0</td>\n",
       "      <td>webpack|gulp</td>\n",
       "      <td>66</td>\n",
       "    </tr>\n",
       "    <tr>\n",
       "      <th>4</th>\n",
       "      <td>13658739</td>\n",
       "      <td>Java - key event listener</td>\n",
       "      <td>&lt;p&gt;Is it possible to bind an action listener f...</td>\n",
       "      <td>13659220.0</td>\n",
       "      <td>2</td>\n",
       "      <td>8</td>\n",
       "      <td>None</td>\n",
       "      <td>2012-12-01 10:59:07.213000+00:00</td>\n",
       "      <td>None</td>\n",
       "      <td>2012-12-01 11:57:37.083000+00:00</td>\n",
       "      <td>2012-12-01 11:07:10.033000+00:00</td>\n",
       "      <td></td>\n",
       "      <td>418556.0</td>\n",
       "      <td></td>\n",
       "      <td>1184717.0</td>\n",
       "      <td>1</td>\n",
       "      <td>0</td>\n",
       "      <td>java|command-line-interface</td>\n",
       "      <td>2065</td>\n",
       "    </tr>\n",
       "  </tbody>\n",
       "</table>\n",
       "</div>"
      ],
      "text/plain": [
       "         id    ...     view_count\n",
       "0  49109733    ...             27\n",
       "1  44662632    ...             20\n",
       "2  45338606    ...             56\n",
       "3  50876533    ...             66\n",
       "4  13658739    ...           2065\n",
       "\n",
       "[5 rows x 19 columns]"
      ]
     },
     "execution_count": 9,
     "metadata": {},
     "output_type": "execute_result"
    }
   ],
   "source": [
    "bq_assistant.head(\"posts_questions\", num_rows=5)"
   ]
  },
  {
   "cell_type": "code",
   "execution_count": 10,
   "metadata": {
    "_uuid": "eb8700ef1abd98802bbfae869b6b39d1f85c2146"
   },
   "outputs": [
    {
     "data": {
      "text/html": [
       "<div>\n",
       "<style scoped>\n",
       "    .dataframe tbody tr th:only-of-type {\n",
       "        vertical-align: middle;\n",
       "    }\n",
       "\n",
       "    .dataframe tbody tr th {\n",
       "        vertical-align: top;\n",
       "    }\n",
       "\n",
       "    .dataframe thead th {\n",
       "        text-align: right;\n",
       "    }\n",
       "</style>\n",
       "<table border=\"1\" class=\"dataframe\">\n",
       "  <thead>\n",
       "    <tr style=\"text-align: right;\">\n",
       "      <th></th>\n",
       "      <th>id</th>\n",
       "      <th>display_name</th>\n",
       "      <th>about_me</th>\n",
       "      <th>age</th>\n",
       "      <th>creation_date</th>\n",
       "      <th>last_access_date</th>\n",
       "      <th>location</th>\n",
       "      <th>reputation</th>\n",
       "      <th>up_votes</th>\n",
       "      <th>down_votes</th>\n",
       "      <th>views</th>\n",
       "      <th>profile_image_url</th>\n",
       "      <th>website_url</th>\n",
       "    </tr>\n",
       "  </thead>\n",
       "  <tbody>\n",
       "    <tr>\n",
       "      <th>0</th>\n",
       "      <td>1476352</td>\n",
       "      <td>Alexandre Magno Teles Zimerer</td>\n",
       "      <td>&lt;p&gt;Alexandre Magno is a software engineer at G...</td>\n",
       "      <td></td>\n",
       "      <td>2012-06-23 04:38:23.753000+00:00</td>\n",
       "      <td>2018-12-01 14:09:53.237000+00:00</td>\n",
       "      <td>Rio de Janeiro</td>\n",
       "      <td>61</td>\n",
       "      <td>629</td>\n",
       "      <td>0</td>\n",
       "      <td>24</td>\n",
       "      <td></td>\n",
       "      <td>http://blog.alexandremagno.net</td>\n",
       "    </tr>\n",
       "    <tr>\n",
       "      <th>1</th>\n",
       "      <td>2756832</td>\n",
       "      <td>Kandy</td>\n",
       "      <td></td>\n",
       "      <td></td>\n",
       "      <td>2013-09-07 11:04:10.827000+00:00</td>\n",
       "      <td>2018-11-30 12:18:11.977000+00:00</td>\n",
       "      <td>Patna, Bihar, India</td>\n",
       "      <td>122</td>\n",
       "      <td>20</td>\n",
       "      <td>0</td>\n",
       "      <td>29</td>\n",
       "      <td>https://www.gravatar.com/avatar/c13404e96c0f0b...</td>\n",
       "      <td></td>\n",
       "    </tr>\n",
       "    <tr>\n",
       "      <th>2</th>\n",
       "      <td>2470755</td>\n",
       "      <td>C.Colden</td>\n",
       "      <td></td>\n",
       "      <td></td>\n",
       "      <td>2013-06-10 11:39:35.650000+00:00</td>\n",
       "      <td>2018-12-01 21:36:14.527000+00:00</td>\n",
       "      <td></td>\n",
       "      <td>463</td>\n",
       "      <td>45</td>\n",
       "      <td>5</td>\n",
       "      <td>95</td>\n",
       "      <td></td>\n",
       "      <td></td>\n",
       "    </tr>\n",
       "    <tr>\n",
       "      <th>3</th>\n",
       "      <td>330842</td>\n",
       "      <td>Xav</td>\n",
       "      <td></td>\n",
       "      <td></td>\n",
       "      <td>2010-05-02 14:11:39.690000+00:00</td>\n",
       "      <td>2018-11-30 14:01:19.913000+00:00</td>\n",
       "      <td></td>\n",
       "      <td>192</td>\n",
       "      <td>49</td>\n",
       "      <td>13</td>\n",
       "      <td>18</td>\n",
       "      <td></td>\n",
       "      <td></td>\n",
       "    </tr>\n",
       "    <tr>\n",
       "      <th>4</th>\n",
       "      <td>3357481</td>\n",
       "      <td>Mutating Algorithm</td>\n",
       "      <td></td>\n",
       "      <td></td>\n",
       "      <td>2014-02-26 19:33:16.937000+00:00</td>\n",
       "      <td>2018-11-29 15:42:00.937000+00:00</td>\n",
       "      <td></td>\n",
       "      <td>798</td>\n",
       "      <td>94</td>\n",
       "      <td>5</td>\n",
       "      <td>246</td>\n",
       "      <td>https://graph.facebook.com/100006348219116/pic...</td>\n",
       "      <td></td>\n",
       "    </tr>\n",
       "  </tbody>\n",
       "</table>\n",
       "</div>"
      ],
      "text/plain": [
       "        id               ...                                   website_url\n",
       "0  1476352               ...                http://blog.alexandremagno.net\n",
       "1  2756832               ...                                              \n",
       "2  2470755               ...                                              \n",
       "3   330842               ...                                              \n",
       "4  3357481               ...                                              \n",
       "\n",
       "[5 rows x 13 columns]"
      ]
     },
     "execution_count": 10,
     "metadata": {},
     "output_type": "execute_result"
    }
   ],
   "source": [
    "bq_assistant.head(\"users\", num_rows=5)"
   ]
  },
  {
   "cell_type": "code",
   "execution_count": 11,
   "metadata": {
    "_uuid": "787a086ceea565d12d69ce217422980ed96c3b87"
   },
   "outputs": [],
   "source": [
    "query1 = \"\"\"SELECT COUNT(id) AS num_users\n",
    "FROM\n",
    "  `bigquery-public-data.stackoverflow.users`;\n",
    "        \"\"\""
   ]
  },
  {
   "cell_type": "code",
   "execution_count": 12,
   "metadata": {
    "_uuid": "b3001b55f481bb26dd4a3a41bdb6449c038847b2"
   },
   "outputs": [
    {
     "data": {
      "text/plain": [
       "0.07254814356565475"
      ]
     },
     "execution_count": 12,
     "metadata": {},
     "output_type": "execute_result"
    }
   ],
   "source": [
    "stackOverflow.estimate_query_size(query1)"
   ]
  },
  {
   "cell_type": "code",
   "execution_count": 14,
   "metadata": {
    "_uuid": "febe223c79d7f142050c4b7b9c16b222f29dd5ed"
   },
   "outputs": [],
   "source": [
    "num_users = stackOverflow.query_to_pandas_safe(query1, max_gb_scanned=1.5)"
   ]
  },
  {
   "cell_type": "code",
   "execution_count": 15,
   "metadata": {
    "_uuid": "7fa07cba69676325512233f001ad3119d089eaf2"
   },
   "outputs": [
    {
     "data": {
      "text/html": [
       "<div>\n",
       "<style scoped>\n",
       "    .dataframe tbody tr th:only-of-type {\n",
       "        vertical-align: middle;\n",
       "    }\n",
       "\n",
       "    .dataframe tbody tr th {\n",
       "        vertical-align: top;\n",
       "    }\n",
       "\n",
       "    .dataframe thead th {\n",
       "        text-align: right;\n",
       "    }\n",
       "</style>\n",
       "<table border=\"1\" class=\"dataframe\">\n",
       "  <thead>\n",
       "    <tr style=\"text-align: right;\">\n",
       "      <th></th>\n",
       "      <th>num_users</th>\n",
       "    </tr>\n",
       "  </thead>\n",
       "  <tbody>\n",
       "    <tr>\n",
       "      <th>0</th>\n",
       "      <td>9737247</td>\n",
       "    </tr>\n",
       "  </tbody>\n",
       "</table>\n",
       "</div>"
      ],
      "text/plain": [
       "   num_users\n",
       "0    9737247"
      ]
     },
     "execution_count": 15,
     "metadata": {},
     "output_type": "execute_result"
    }
   ],
   "source": [
    "num_users # 9737247 users"
   ]
  },
  {
   "cell_type": "code",
   "execution_count": null,
   "metadata": {
    "_uuid": "58de609268536cc8f68136548c0fee4e13b6852b"
   },
   "outputs": [],
   "source": []
  },
  {
   "cell_type": "code",
   "execution_count": null,
   "metadata": {
    "_uuid": "16902b6118a97ec641e57d2cb083f2b400e27dab"
   },
   "outputs": [],
   "source": [
    "num_users"
   ]
  },
  {
   "cell_type": "code",
   "execution_count": null,
   "metadata": {
    "_uuid": "c6ae741034d48577f5208fd9a8a9f87370705b3a"
   },
   "outputs": [],
   "source": [
    "some_tags = stackOverflow.query_to_pandas_safe(query_some_tags, max_gb_scanned=1.5)"
   ]
  },
  {
   "cell_type": "code",
   "execution_count": null,
   "metadata": {
    "_uuid": "17b576c23e76f1fda5aa19166529c4bd6db1b900"
   },
   "outputs": [],
   "source": [
    "query_latest_date = \"\"\"\n",
    "SELECT \n",
    "    MIN(creation_date) AS earliest_creation_date,\n",
    "    MAX(creation_date) AS latest_creation_date\n",
    "FROM \n",
    "    `bigquery-public-data.stackoverflow.stackoverflow_posts`\n",
    "\"\"\"\n",
    "df_latest_date = stackOverflow.query_to_pandas_safe(query_latest_date)"
   ]
  },
  {
   "cell_type": "code",
   "execution_count": null,
   "metadata": {
    "_uuid": "1705975e84d13087a40d0cde5c6123e3c37a1b66"
   },
   "outputs": [],
   "source": [
    "df_latest_date"
   ]
  },
  {
   "cell_type": "code",
   "execution_count": null,
   "metadata": {
    "_uuid": "971304e61266816ab16d861770bdea4cc23b0e16"
   },
   "outputs": [],
   "source": [
    "query_latest_date_qposts = \"\"\"\n",
    "SELECT \n",
    "    MIN(creation_date) AS earliest_creation_date,\n",
    "    MAX(creation_date) AS latest_creation_date\n",
    "FROM \n",
    "    `bigquery-public-data.stackoverflow.posts_questions`\n",
    "\"\"\"\n",
    "df_latest_date_qposts = stackOverflow.query_to_pandas_safe(query_latest_date_qposts)"
   ]
  },
  {
   "cell_type": "code",
   "execution_count": null,
   "metadata": {
    "_uuid": "4768eaf87df43794fbf9854cb2467ca875ed4b48"
   },
   "outputs": [],
   "source": [
    "df_latest_date_qposts"
   ]
  },
  {
   "cell_type": "markdown",
   "metadata": {
    "_uuid": "692b1896639df3bcdd95da79e4af1c8818785a65"
   },
   "source": [
    "## Python and R Questions\n",
    "\n",
    "How stats of questions related to these two common languages differ?"
   ]
  },
  {
   "cell_type": "code",
   "execution_count": 62,
   "metadata": {
    "_uuid": "f1818d9f1c262de04eede69d4faa331d8d04925f"
   },
   "outputs": [],
   "source": [
    "# for future study we may need the folllowing columns\n",
    "cols_of_interest = ['id', 'title', 'accepted_answer_id', 'answer_count',\n",
    "       'comment_count', 'creation_date', 'favorite_count', 'last_activity_date', \n",
    "       'last_edit_date', 'owner_user_id', 'post_type_id', 'score', 'tags',\n",
    "       'view_count']"
   ]
  },
  {
   "cell_type": "code",
   "execution_count": 54,
   "metadata": {
    "_uuid": "8b6b2dcea2917ae147fbe381a7a443b0d2db0e7e"
   },
   "outputs": [
    {
     "data": {
      "text/plain": [
       "2.5707095079123974"
      ]
     },
     "execution_count": 54,
     "metadata": {},
     "output_type": "execute_result"
    }
   ],
   "source": [
    "# SQL query to extract Python & R questions\n",
    "query_python_posts = \"\"\"\n",
    "SELECT %s,\n",
    "    REGEXP_CONTAINS(tags, r'python') AS is_python,\n",
    "    REGEXP_CONTAINS(tags, r'%s') AS is_r\n",
    "FROM \n",
    "    `bigquery-public-data.stackoverflow.posts_questions`\n",
    "WHERE\n",
    "    REGEXP_CONTAINS(tags, r'python') OR\n",
    "    REGEXP_CONTAINS(tags, r'%s')\n",
    "\"\"\" %(','.join(cols_of_interest), r'\\br\\b', r'\\br\\b')\n",
    "# check the size of this query\n",
    "stackOverflow.estimate_query_size(query_python_posts)"
   ]
  },
  {
   "cell_type": "code",
   "execution_count": 55,
   "metadata": {
    "_uuid": "1add7ef336f15199938d3d8a77d233f9d24b2b0d"
   },
   "outputs": [
    {
     "name": "stdout",
     "output_type": "stream",
     "text": [
      "\n",
      "SELECT id,title,accepted_answer_id,answer_count,comment_count,creation_date,favorite_count,last_activity_date,last_edit_date,owner_user_id,post_type_id,score,tags,view_count,\n",
      "    REGEXP_CONTAINS(tags, r'python') AS is_python,\n",
      "    REGEXP_CONTAINS(tags, r'\\br\\b') AS is_r\n",
      "FROM \n",
      "    `bigquery-public-data.stackoverflow.posts_questions`\n",
      "WHERE\n",
      "    REGEXP_CONTAINS(tags, r'python') OR\n",
      "    REGEXP_CONTAINS(tags, r'\\br\\b')\n",
      "\n"
     ]
    }
   ],
   "source": [
    "# make sure the query looks fine\n",
    "print(query_python_posts)"
   ]
  },
  {
   "cell_type": "code",
   "execution_count": 56,
   "metadata": {
    "_uuid": "8a02aa72a5328be72502940a4b0e66213d9f198b"
   },
   "outputs": [],
   "source": [
    "# save results to a dataframe\n",
    "df_python_r = stackOverflow.query_to_pandas_safe(query_python_posts, max_gb_scanned=3.0)"
   ]
  },
  {
   "cell_type": "code",
   "execution_count": 49,
   "metadata": {
    "_uuid": "53ba9ab70ff53766a0bd19c14c21cad2ef054590"
   },
   "outputs": [
    {
     "data": {
      "text/html": [
       "<div>\n",
       "<style scoped>\n",
       "    .dataframe tbody tr th:only-of-type {\n",
       "        vertical-align: middle;\n",
       "    }\n",
       "\n",
       "    .dataframe tbody tr th {\n",
       "        vertical-align: top;\n",
       "    }\n",
       "\n",
       "    .dataframe thead th {\n",
       "        text-align: right;\n",
       "    }\n",
       "</style>\n",
       "<table border=\"1\" class=\"dataframe\">\n",
       "  <thead>\n",
       "    <tr style=\"text-align: right;\">\n",
       "      <th></th>\n",
       "      <th>id</th>\n",
       "      <th>title</th>\n",
       "      <th>accepted_answer_id</th>\n",
       "      <th>answer_count</th>\n",
       "      <th>comment_count</th>\n",
       "      <th>creation_date</th>\n",
       "      <th>favorite_count</th>\n",
       "      <th>last_activity_date</th>\n",
       "      <th>last_edit_date</th>\n",
       "      <th>owner_user_id</th>\n",
       "      <th>post_type_id</th>\n",
       "      <th>score</th>\n",
       "      <th>tags</th>\n",
       "      <th>view_count</th>\n",
       "      <th>is_python</th>\n",
       "      <th>is_r</th>\n",
       "    </tr>\n",
       "  </thead>\n",
       "  <tbody>\n",
       "    <tr>\n",
       "      <th>0</th>\n",
       "      <td>42871315</td>\n",
       "      <td>Reverse keys with values list comprehension al...</td>\n",
       "      <td>NaN</td>\n",
       "      <td>1</td>\n",
       "      <td>11</td>\n",
       "      <td>2017-03-18 06:31:52.700000+00:00</td>\n",
       "      <td>NaN</td>\n",
       "      <td>2017-03-18 07:06:13.593000+00:00</td>\n",
       "      <td>2017-03-18 06:39:02.583000+00:00</td>\n",
       "      <td>7147191.0</td>\n",
       "      <td>1</td>\n",
       "      <td>0</td>\n",
       "      <td>python|dictionary|collections|list-comprehension</td>\n",
       "      <td>65</td>\n",
       "      <td>True</td>\n",
       "      <td>False</td>\n",
       "    </tr>\n",
       "    <tr>\n",
       "      <th>1</th>\n",
       "      <td>34607305</td>\n",
       "      <td>Why do brackets catch the last character inste...</td>\n",
       "      <td>34607334.0</td>\n",
       "      <td>2</td>\n",
       "      <td>17</td>\n",
       "      <td>2016-01-05 08:37:09.537000+00:00</td>\n",
       "      <td>NaN</td>\n",
       "      <td>2016-01-05 19:49:55.353000+00:00</td>\n",
       "      <td>2016-01-05 09:36:36.640000+00:00</td>\n",
       "      <td>5299236.0</td>\n",
       "      <td>1</td>\n",
       "      <td>-2</td>\n",
       "      <td>python|regex</td>\n",
       "      <td>72</td>\n",
       "      <td>True</td>\n",
       "      <td>False</td>\n",
       "    </tr>\n",
       "    <tr>\n",
       "      <th>2</th>\n",
       "      <td>25574381</td>\n",
       "      <td>Using Python's xlrd module to find column with...</td>\n",
       "      <td>NaN</td>\n",
       "      <td>2</td>\n",
       "      <td>18</td>\n",
       "      <td>2014-08-29 18:43:42.697000+00:00</td>\n",
       "      <td>NaN</td>\n",
       "      <td>2014-08-29 22:04:08.643000+00:00</td>\n",
       "      <td>2014-08-29 20:37:37.037000+00:00</td>\n",
       "      <td>3991149.0</td>\n",
       "      <td>1</td>\n",
       "      <td>2</td>\n",
       "      <td>python|excel|date|datetime|xlrd</td>\n",
       "      <td>953</td>\n",
       "      <td>True</td>\n",
       "      <td>False</td>\n",
       "    </tr>\n",
       "    <tr>\n",
       "      <th>3</th>\n",
       "      <td>27878137</td>\n",
       "      <td>How to check if the number can be represented ...</td>\n",
       "      <td>NaN</td>\n",
       "      <td>3</td>\n",
       "      <td>14</td>\n",
       "      <td>2015-01-10 15:58:52.910000+00:00</td>\n",
       "      <td>3.0</td>\n",
       "      <td>2016-09-20 00:25:00.550000+00:00</td>\n",
       "      <td>2015-01-10 16:40:16.793000+00:00</td>\n",
       "      <td>3785289.0</td>\n",
       "      <td>1</td>\n",
       "      <td>5</td>\n",
       "      <td>python|algorithm|primes|number-theory|nth-root</td>\n",
       "      <td>1353</td>\n",
       "      <td>True</td>\n",
       "      <td>False</td>\n",
       "    </tr>\n",
       "    <tr>\n",
       "      <th>4</th>\n",
       "      <td>31089228</td>\n",
       "      <td>pulling numbers out of text</td>\n",
       "      <td>NaN</td>\n",
       "      <td>1</td>\n",
       "      <td>11</td>\n",
       "      <td>2015-06-27 13:16:12.953000+00:00</td>\n",
       "      <td>NaN</td>\n",
       "      <td>2015-06-27 14:48:29.347000+00:00</td>\n",
       "      <td>2015-06-27 13:39:54.393000+00:00</td>\n",
       "      <td>5056072.0</td>\n",
       "      <td>1</td>\n",
       "      <td>-4</td>\n",
       "      <td>python|file|text|calculator</td>\n",
       "      <td>50</td>\n",
       "      <td>True</td>\n",
       "      <td>False</td>\n",
       "    </tr>\n",
       "  </tbody>\n",
       "</table>\n",
       "</div>"
      ],
      "text/plain": [
       "         id  ...     is_r\n",
       "0  42871315  ...    False\n",
       "1  34607305  ...    False\n",
       "2  25574381  ...    False\n",
       "3  27878137  ...    False\n",
       "4  31089228  ...    False\n",
       "\n",
       "[5 rows x 16 columns]"
      ]
     },
     "execution_count": 49,
     "metadata": {},
     "output_type": "execute_result"
    }
   ],
   "source": [
    "df_python_r.head()"
   ]
  },
  {
   "cell_type": "markdown",
   "metadata": {
    "_uuid": "d1342276dbb51dad63dd64ba0882de8d31fcb0d3"
   },
   "source": [
    "### How many Python/R questions there are in total?"
   ]
  },
  {
   "cell_type": "code",
   "execution_count": 65,
   "metadata": {
    "_uuid": "b3ca7f9195ed9634b2184ad9410bab11a77f3536"
   },
   "outputs": [
    {
     "data": {
      "text/plain": [
       "<matplotlib.axes._subplots.AxesSubplot at 0x7ff5ba3ca828>"
      ]
     },
     "execution_count": 65,
     "metadata": {},
     "output_type": "execute_result"
    },
    {
     "data": {
      "image/png": "[encoded data removed]",
      "text/plain": [
       "<Figure size 720x360 with 1 Axes>"
      ]
     },
     "metadata": {},
     "output_type": "display_data"
    }
   ],
   "source": [
    "df_python_r[['is_python', 'is_r']].sum().plot(kind='bar', figsize=(10, 5),\n",
    "                                             title='Total Number of Python and R questions')"
   ]
  },
  {
   "cell_type": "markdown",
   "metadata": {
    "_uuid": "1394e0e9a9eb2466cff53e7a178a164e914c29c7"
   },
   "source": [
    "### How many questions contain both Python and R in the tags?"
   ]
  },
  {
   "cell_type": "code",
   "execution_count": 67,
   "metadata": {
    "_uuid": "33af475a2e0df77620126337909ecca4df482576"
   },
   "outputs": [
    {
     "data": {
      "text/plain": [
       "3324"
      ]
     },
     "execution_count": 67,
     "metadata": {},
     "output_type": "execute_result"
    }
   ],
   "source": [
    "(df_python_r.is_python & df_python_r.is_r).sum()"
   ]
  },
  {
   "cell_type": "markdown",
   "metadata": {
    "_uuid": "a6502b439550c34a0f30eb1a39a664756fc416a9"
   },
   "source": [
    "### How two numbers grow with time? "
   ]
  },
  {
   "cell_type": "code",
   "execution_count": 61,
   "metadata": {
    "_uuid": "000395fb824da0a5834190718ce3632aa53530ac"
   },
   "outputs": [
    {
     "data": {
      "text/plain": [
       "<matplotlib.axes._subplots.AxesSubplot at 0x7ff5bb28b390>"
      ]
     },
     "execution_count": 61,
     "metadata": {},
     "output_type": "execute_result"
    },
    {
     "data": {
      "image/png": "[encoded data removed]",
      "text/plain": [
       "<Figure size 1800x360 with 1 Axes>"
      ]
     },
     "metadata": {},
     "output_type": "display_data"
    }
   ],
   "source": [
    "df_python_r[df_python_r.is_python].resample('1W', on='creation_date').id.count().plot(figsize=(25, 5), label='Python', legend=True,\n",
    "                                                                                     linewidth=4)\n",
    "df_python_r[df_python_r.is_r].resample('1W', on='creation_date').id.count().plot(figsize=(25, 5), label='R', legend=True,\n",
    "                                                                                linewidth=4,\n",
    "                                                                                title='Weekly Number of Python & R Questions on StackOverflow')"
   ]
  },
  {
   "cell_type": "markdown",
   "metadata": {
    "_uuid": "116be902c6fdc6364c6945902a4218da334a6fe4"
   },
   "source": [
    "### On which weekdays users typically ask their questions ?"
   ]
  },
  {
   "cell_type": "code",
   "execution_count": 99,
   "metadata": {
    "_uuid": "952d34604726c6f1dc0ce24b3fb7673b6b2e82e2"
   },
   "outputs": [
    {
     "data": {
      "text/plain": [
       "<matplotlib.axes._subplots.AxesSubplot at 0x7ff5b1414438>"
      ]
     },
     "execution_count": 99,
     "metadata": {},
     "output_type": "execute_result"
    },
    {
     "data": {
      "image/png": "[encoded data removed]",
      "text/plain": [
       "<Figure size 1080x360 with 1 Axes>"
      ]
     },
     "metadata": {},
     "output_type": "display_data"
    }
   ],
   "source": [
    "pd.DataFrame({'Python': df_python_r[df_python_r.is_python].creation_date.dt.weekday.value_counts(sort=False, normalize=True).values,\n",
    "              'R': df_python_r[df_python_r.is_r].creation_date.dt.weekday.value_counts(sort=False, normalize=True).values},\n",
    "              index=['Monday', 'Tuesday', 'Wednesday', 'Thursday','Friday', 'Saturday', 'Sunday']).plot(\n",
    "              kind='bar', figsize=(15, 5), rot=0, title='Normalized Number of Questions asked on different weekdays')"
   ]
  },
  {
   "cell_type": "markdown",
   "metadata": {
    "_uuid": "2a4e1eba309479acaa65e453df91f955652090f0"
   },
   "source": [
    "Note that Python questions are asked more often during the weekends than the R questions. Is it because on weekends people tend to work more on their side projects (and Python is more suitable to that)? It might be possible to determine this by looking at the typical questions asked on those days.  "
   ]
  },
  {
   "cell_type": "markdown",
   "metadata": {
    "_uuid": "8f31f5a62ef4a1bd89e06fed99267343b8218721"
   },
   "source": [
    "### Which hours of day are more common for asking Python & R questions"
   ]
  },
  {
   "cell_type": "code",
   "execution_count": 106,
   "metadata": {
    "_uuid": "db3dc41db66403c9cbe0659135b5d95bc07b614c"
   },
   "outputs": [
    {
     "data": {
      "text/plain": [
       "<matplotlib.axes._subplots.AxesSubplot at 0x7ff5af1afb38>"
      ]
     },
     "execution_count": 106,
     "metadata": {},
     "output_type": "execute_result"
    },
    {
     "data": {
      "image/png": "[encoded data removed]",
      "text/plain": [
       "<Figure size 1440x360 with 1 Axes>"
      ]
     },
     "metadata": {},
     "output_type": "display_data"
    }
   ],
   "source": [
    "pd.DataFrame({'Python': df_python_r[df_python_r.is_python].creation_date.dt.hour.value_counts(sort=False, normalize=True),\n",
    "              'R': df_python_r[df_python_r.is_r].creation_date.dt.hour.value_counts(sort=False, normalize=True)},\n",
    "              ).plot(\n",
    "              kind='bar', figsize=(20, 5), rot=0, title='Normalized Number of Questions asked at different hours')"
   ]
  },
  {
   "cell_type": "markdown",
   "metadata": {
    "_uuid": "e49fac82c3ee90c5b69ba9c0588581da3dfd9dd8"
   },
   "source": [
    "It is interesting that Python questions are asked more over the night/morning hours, and R questions are asked more in daytime hours!"
   ]
  },
  {
   "cell_type": "markdown",
   "metadata": {},
   "source": [
    "### Let's take a look at different distributions for question parameters"
   ]
  },
  {
   "cell_type": "code",
   "execution_count": 113,
   "metadata": {
    "_uuid": "a9e96e6e8cf834d0165034a14ff3319e14433346"
   },
   "outputs": [
    {
     "data": {
      "text/plain": [
       "<matplotlib.axes._subplots.AxesSubplot at 0x7ff5aa93e6d8>"
      ]
     },
     "execution_count": 113,
     "metadata": {},
     "output_type": "execute_result"
    },
    {
     "data": {
      "image/png": "[encoded data removed]",
      "text/plain": [
       "<Figure size 1080x360 with 1 Axes>"
      ]
     },
     "metadata": {},
     "output_type": "display_data"
    }
   ],
   "source": [
    "df_python_r[df_python_r.is_python].answer_count.plot(kind='hist', figsize=(15, 5), bins=50, logy=True, density=True,\n",
    "                                                    label='Python', legend=True)\n",
    "df_python_r[df_python_r.is_r].answer_count.plot(kind='hist', figsize=(15, 5), bins=50, logy=True, density=True,\n",
    "                                                label='R', legend=True, title='Normalized distribution of Answer Count')"
   ]
  },
  {
   "cell_type": "code",
   "execution_count": 114,
   "metadata": {
    "_uuid": "b2f8b91fc010854af3a85f1a256f123b21f3c787"
   },
   "outputs": [
    {
     "data": {
      "text/plain": [
       "<matplotlib.axes._subplots.AxesSubplot at 0x7ff5aba00da0>"
      ]
     },
     "execution_count": 114,
     "metadata": {},
     "output_type": "execute_result"
    },
    {
     "data": {
      "image/png": "[encoded data removed]",
      "text/plain": [
       "<Figure size 1080x360 with 1 Axes>"
      ]
     },
     "metadata": {},
     "output_type": "display_data"
    }
   ],
   "source": [
    "df_python_r[df_python_r.is_python].comment_count.plot(kind='hist', figsize=(15, 5), bins=50, logy=True, density=True,\n",
    "                                                    label='Python', legend=True)\n",
    "df_python_r[df_python_r.is_r].comment_count.plot(kind='hist', figsize=(15, 5), bins=50, logy=True, density=True,\n",
    "                                                label='R', legend=True, title='Normalized distribution of Comment Count')"
   ]
  },
  {
   "cell_type": "code",
   "execution_count": 115,
   "metadata": {
    "_uuid": "1f403c641baa9df5da0c206e0145dd15d2c55086"
   },
   "outputs": [
    {
     "data": {
      "text/plain": [
       "<matplotlib.axes._subplots.AxesSubplot at 0x7ff5a99864a8>"
      ]
     },
     "execution_count": 115,
     "metadata": {},
     "output_type": "execute_result"
    },
    {
     "data": {
      "image/png": "[encoded data removed]",
      "text/plain": [
       "<Figure size 1080x360 with 1 Axes>"
      ]
     },
     "metadata": {},
     "output_type": "display_data"
    }
   ],
   "source": [
    "df_python_r[df_python_r.is_python].view_count.plot(kind='hist', figsize=(15, 5), bins=50, logy=True, density=True,\n",
    "                                                    label='Python', legend=True)\n",
    "df_python_r[df_python_r.is_r].view_count.plot(kind='hist', figsize=(15, 5), bins=50, logy=True, density=True,\n",
    "                                                label='R', legend=True, title='Normalized distribution of View Count')"
   ]
  },
  {
   "cell_type": "markdown",
   "metadata": {
    "_uuid": "847a3af8cddd555ffe5bc13f463002a0022b4c06"
   },
   "source": [
    "### To be continued..."
   ]
  }
 ],
 "metadata": {
  "kernelspec": {
   "display_name": "Python 3",
   "language": "python",
   "name": "python3"
  },
  "language_info": {
   "codemirror_mode": {
    "name": "ipython",
    "version": 3
   },
   "file_extension": ".py",
   "mimetype": "text/x-python",
   "name": "python",
   "nbconvert_exporter": "python",
   "pygments_lexer": "ipython3",
   "version": "3.6.7"
  }
 },
 "nbformat": 4,
 "nbformat_minor": 1
}
